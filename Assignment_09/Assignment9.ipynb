{
  "nbformat": 4,
  "nbformat_minor": 0,
  "metadata": {
    "colab": {
      "name": "Assignment9_Berger_Bündert_Schwarzer.ipynb",
      "provenance": [],
      "collapsed_sections": []
    },
    "kernelspec": {
      "display_name": "Python 3",
      "language": "python",
      "name": "python3"
    },
    "language_info": {
      "codemirror_mode": {
        "name": "ipython",
        "version": 3
      },
      "file_extension": ".py",
      "mimetype": "text/x-python",
      "name": "python",
      "nbconvert_exporter": "python",
      "pygments_lexer": "ipython3",
      "version": "3.8.8"
    }
  },
  "cells": [
    {
      "cell_type": "markdown",
      "metadata": {
        "id": "Gq4MCZ0rRr_l"
      },
      "source": [
        "# **Introduction**"
      ]
    },
    {
      "cell_type": "markdown",
      "metadata": {
        "id": "c-B7bxZNY0m1"
      },
      "source": [
        "We load in the data and arrange it properly."
      ]
    },
    {
      "cell_type": "code",
      "metadata": {
        "id": "6TNwy5q3MQqi"
      },
      "source": [
        "import numpy as np\n",
        "import matplotlib.pyplot as plt\n",
        "from tqdm import tqdm\n",
        "\n",
        "data = np.load('USPS_data.npy', allow_pickle = True).item()"
      ],
      "execution_count": null,
      "outputs": []
    },
    {
      "cell_type": "code",
      "metadata": {
        "id": "EhgSGD1qY5Ge"
      },
      "source": [
        ""
      ],
      "execution_count": null,
      "outputs": []
    },
    {
      "cell_type": "code",
      "metadata": {
        "id": "q-wKXcVkJBBJ"
      },
      "source": [
        "X_train = list(data.values())[0]\n",
        "Y_test = list(data.values())[1]\n",
        "X_test = list(data.values())[2]\n",
        "Y_train = list(data.values())[3]"
      ],
      "execution_count": null,
      "outputs": []
    },
    {
      "cell_type": "markdown",
      "metadata": {
        "id": "WkVpQlzHnzKG"
      },
      "source": [
        "# **Exercise 16**"
      ]
    },
    {
      "cell_type": "markdown",
      "metadata": {
        "id": "GP5zzBfHXh6v"
      },
      "source": [
        "**b)**"
      ]
    },
    {
      "cell_type": "code",
      "metadata": {
        "id": "oQt_ZWgPiqRI"
      },
      "source": [
        "def FitStump(X,Y,w,gamma):\n",
        "    ''' \n",
        "    function to compute the optimal (generalized) decision stump given the \n",
        "    input parameters\n",
        "\n",
        "    X (nxd), Y (nx1): training data\n",
        "    w (dx1): fixed weight vector\n",
        "    gamma (nx1): weights\n",
        "\n",
        "    a,b,c: parameters of optimal decision stump\n",
        "    minError: minimal error of optimal decision stump\n",
        "    '''\n",
        "    n = X.shape[0]\n",
        "\n",
        "    # determine the n+1 different thresholds\n",
        "    bs = np.sort((X@w)*(-1))\n",
        "    bs = np.append(bs, (bs[len(bs)-1]+0.001))\n",
        "\n",
        "    mat = np.array([X@w]*len(bs)).T+np.array([bs]*(len(bs)-1))>0\n",
        "\n",
        "    mat_a = 1+np.mean(mat, axis = 0)\n",
        "    mat_a[mat_a == 0] = 10e-10\n",
        "\n",
        "    a = 1 / mat_a\n",
        "    c = np.mean(np.array([Y] * len(bs)).T.squeeze() - a*mat, axis = 0)\n",
        "\n",
        "    LSerror = gamma.T@(np.array([Y] * len(bs)).T.squeeze()-(a*mat+np.array([c]*X.shape[0])))**2\n",
        "\n",
        "    minError = np.min(LSerror) \n",
        "\n",
        "    a = a[np.argmin(LSerror)]\n",
        "    b = bs[np.argmin(LSerror)]\n",
        "    c = c[np.argmin(LSerror)]\n",
        "\n",
        "    return a,b,c,minError"
      ],
      "execution_count": null,
      "outputs": []
    },
    {
      "cell_type": "markdown",
      "metadata": {
        "id": "Yrae2nCrX6-K"
      },
      "source": [
        "**c)**"
      ]
    },
    {
      "cell_type": "code",
      "metadata": {
        "id": "JJOkgx0MX6-N"
      },
      "source": [
        "def GentleBoost(X,Y,k):\n",
        "    ''' \n",
        "    function to perform GentleBoost for k iterations using the weak learner\n",
        "    defined in FitStump(); the weights are drawn uniformly from the unit sphere\n",
        "    and all paramters of the stump are saved in respective matrices and \n",
        "    subsequently returned\n",
        "\n",
        "    X, Y: training data\n",
        "    k: maximum number of iterations (number of used weak learners)\n",
        "\n",
        "    final_loss: average loss across all folds\n",
        "    '''\n",
        "    n = X.shape[0]\n",
        "    d = X.shape[1]\n",
        "\n",
        "    aparam = np.zeros([k, 1])\n",
        "    bparam = np.zeros([k, 1])\n",
        "    cparam = np.zeros([k, 1])\n",
        "    W = np.zeros([d, k])\n",
        "\n",
        "    # uniformly initialize weights\n",
        "    gamma = np.full((n, 1), 1/n)\n",
        "\n",
        "    for i in tqdm(range(k)): # k iterations\n",
        "      w = np.random.randn(d)\n",
        "      w = w/np.linalg.norm(w)\n",
        "\n",
        "      aparam[i], bparam[i], cparam[i], minError = FitStump(X,Y,w,gamma)\n",
        "      W[:,i] = w\n",
        "      pred = (aparam[i]*(X@w+bparam[i]>0)+cparam[i]).reshape(X.shape[0], 1)\n",
        "\n",
        "      gamma = gamma*np.exp(-Y*pred)\n",
        "      gamma = gamma/np.sum(gamma)\n",
        "\n",
        "    return W, aparam, bparam, cparam\n",
        "\n",
        "\n",
        "def predict_Gentleboost(X, W, a, b, c):\n",
        "  \"\"\" \n",
        "  function to compute the prediction of the GentleBoost algorithms given the \n",
        "  parameter matrices of the individual iterations\n",
        "  \"\"\"\n",
        "\n",
        "  pred_weak_learners = np.array([a]*X.shape[0]).squeeze()*((X@W)+np.array([b]*X.shape[0]).squeeze()>0)+np.array([c]*X.shape[0]).squeeze()\n",
        "  pred_comb = np.cumsum(pred_weak_learners, axis = 1)\n",
        "\n",
        "  return np.sign(pred_comb) "
      ],
      "execution_count": null,
      "outputs": []
    },
    {
      "cell_type": "markdown",
      "metadata": {
        "id": "-aziX7vnYP4r"
      },
      "source": [
        "**d)**"
      ]
    },
    {
      "cell_type": "markdown",
      "metadata": {
        "id": "jqapVxv4Y_es"
      },
      "source": [
        "For excercise 16 d), we shall only consider those labels with a value of 0 or 1. Hence, we remove all others (including features with a correponding label which is not 0 or 1). Also, we change the value of 0 to -1. Like this, we can take the sign of the sum of weak learners as the final output (as in shown in the lecture slides).\n",
        "\n",
        "The shapes of the new test and training set are displayed below."
      ]
    },
    {
      "cell_type": "code",
      "metadata": {
        "colab": {
          "base_uri": "https://localhost:8080/"
        },
        "id": "sScDJ223YP4s",
        "outputId": "3567909a-f48a-4470-e6a5-e0e87a716aa3"
      },
      "source": [
        "# construct dataset for task at hand\n",
        "\n",
        "ind_train_01 = np.where((Y_train == 0) | (Y_train == 1))[0]\n",
        "ind_test_01 = np.where((Y_test == 0) | (Y_test == 1))[0]\n",
        "\n",
        "X_train_01 = X_train[ind_train_01]\n",
        "Y_train_01 = Y_train[ind_train_01]\n",
        "Y_train_01 = np.where(Y_train_01==0, -1, Y_train_01) # transform into Y={-1,1}\n",
        "\n",
        "X_test_01 = X_test[ind_test_01]\n",
        "Y_test_01 = Y_test[ind_test_01]\n",
        "Y_test_01 = np.where(Y_test_01==0, -1, Y_test_01) \n",
        "\n",
        "print(X_train_01.shape)\n",
        "print(X_test_01.shape)"
      ],
      "execution_count": null,
      "outputs": [
        {
          "output_type": "stream",
          "text": [
            "(712, 256)\n",
            "(623, 256)\n"
          ],
          "name": "stdout"
        }
      ]
    },
    {
      "cell_type": "markdown",
      "metadata": {
        "id": "tqLbRrWQadqE"
      },
      "source": [
        "We now apply the GentleBoost 1000 times."
      ]
    },
    {
      "cell_type": "code",
      "metadata": {
        "id": "jSQ2RlinaSlr",
        "colab": {
          "base_uri": "https://localhost:8080/"
        },
        "outputId": "17ea4085-132f-40e6-9645-cf6e13d50ec1"
      },
      "source": [
        "np.random.seed(42)\n",
        "\n",
        "W, a, b, c = GentleBoost(X_train_01, Y_train_01, 1000)"
      ],
      "execution_count": null,
      "outputs": [
        {
          "output_type": "stream",
          "text": [
            "100%|██████████| 1000/1000 [00:21<00:00, 46.00it/s]\n"
          ],
          "name": "stderr"
        }
      ]
    },
    {
      "cell_type": "markdown",
      "metadata": {
        "id": "NKrubd0YavV_"
      },
      "source": [
        "Finally, we plot the training and test error."
      ]
    },
    {
      "cell_type": "code",
      "metadata": {
        "colab": {
          "base_uri": "https://localhost:8080/",
          "height": 265
        },
        "id": "S5ZG9eJTrH_N",
        "outputId": "a27911b2-9ed6-4a3e-c240-e928c746c8b8"
      },
      "source": [
        "# compute & plot training and test error as function of number of iterations\n",
        "\n",
        "train_preds = predict_Gentleboost(X_train_01, W, a, b, c)\n",
        "test_preds = predict_Gentleboost(X_test_01, W, a, b, c)\n",
        "\n",
        "train_pred_mat = np.array([Y_train_01]*1000).T.squeeze() + train_preds\n",
        "train_error = (np.count_nonzero(train_pred_mat == 0, axis = 0) / train_pred_mat.shape[0])\n",
        "\n",
        "test_pred_mat = np.array([Y_test_01]*1000).T.squeeze() + test_preds\n",
        "test_error = (np.count_nonzero(test_pred_mat == 0, axis = 0) / test_pred_mat.shape[0])\n",
        "\n",
        "x = range(1000)\n",
        "plt.plot(x, train_error, label = \"Train error\", c = 'red')\n",
        "plt.plot(x, test_error, label = \"Test error\", c = 'blue')\n",
        "plt.legend(loc=\"upper right\")\n",
        "plt.show()"
      ],
      "execution_count": null,
      "outputs": [
        {
          "output_type": "display_data",
          "data": {
            "image/png": "[encoded data removed]",
            "text/plain": [
              "<Figure size 432x288 with 1 Axes>"
            ]
          },
          "metadata": {
            "tags": [],
            "needs_background": "light"
          }
        }
      ]
    },
    {
      "cell_type": "markdown",
      "metadata": {
        "id": "0USk9Xi0rIXb"
      },
      "source": [
        "**How is the curve of the test error compared to those of other methods analyzed?**\n",
        "\n",
        "The plot displays that both the train and test error go hand in hand for few weak learners where the overall magnitude of the error is fluctuating. In this case (rather small k), the overall classifier avergaes of rather few rather poorly performing classifiers to this is no surprise. \n",
        "\n",
        "As k > 450 (roughly), the train error decreases significantly. The test error also decreases further, i.e. overfitting does not seem to be an issue here. This is in sharp constrast to other learning methods we have considered before. The latter might be traced back to the fact that each decision stump has low complexity and will thus not overfit. Even when considering multiple stumps in boosting, one only averages over these non-complex functions so that overfitting does not set in. "
      ]
    }
  ]
}