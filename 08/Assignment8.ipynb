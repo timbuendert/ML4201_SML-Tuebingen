{
  "nbformat": 4,
  "nbformat_minor": 0,
  "metadata": {
    "colab": {
      "name": "Assignment8_Berger_Bündert_Schwarzer.ipynb",
      "provenance": [],
      "collapsed_sections": [
        "Gq4MCZ0rRr_l",
        "WkVpQlzHnzKG",
        "bAZJjnoZQTPW"
      ]
    },
    "kernelspec": {
      "display_name": "Python 3",
      "language": "python",
      "name": "python3"
    },
    "language_info": {
      "codemirror_mode": {
        "name": "ipython",
        "version": 3
      },
      "file_extension": ".py",
      "mimetype": "text/x-python",
      "name": "python",
      "nbconvert_exporter": "python",
      "pygments_lexer": "ipython3",
      "version": "3.8.8"
    }
  },
  "cells": [
    {
      "cell_type": "markdown",
      "metadata": {
        "id": "Gq4MCZ0rRr_l"
      },
      "source": [
        "# **Introduction**"
      ]
    },
    {
      "cell_type": "code",
      "metadata": {
        "id": "6TNwy5q3MQqi"
      },
      "source": [
        "import numpy as np\n",
        "import matplotlib.pyplot as plt\n",
        "from matplotlib import cm\n",
        "from tqdm import tqdm\n",
        "\n",
        "data = np.load('DataFeatSel.npy', allow_pickle = True).item()"
      ],
      "execution_count": null,
      "outputs": []
    },
    {
      "cell_type": "code",
      "metadata": {
        "id": "q-wKXcVkJBBJ"
      },
      "source": [
        "X_train = list(data.values())[0]\n",
        "Y_train = list(data.values())[1]\n",
        "Y_test = list(data.values())[2]\n",
        "X_test = list(data.values())[3]"
      ],
      "execution_count": null,
      "outputs": []
    },
    {
      "cell_type": "markdown",
      "metadata": {
        "id": "WkVpQlzHnzKG"
      },
      "source": [
        "# **Exercise 14**"
      ]
    },
    {
      "cell_type": "code",
      "metadata": {
        "id": "ghZYgWYrWjJ-"
      },
      "source": [
        "def CrossValidationLS(X, Y, features):\n",
        "    ''' \n",
        "    function to conduct five-fold cross validation using least squares &\n",
        "    only the selected features\n",
        "\n",
        "    X, Y: training data\n",
        "    features: indices indicating the features under consideration\n",
        "\n",
        "    final_loss: average loss across all folds\n",
        "    '''\n",
        "\n",
        "    n = X.shape[0]\n",
        "    ind_fold = n/5\n",
        "    loss = []\n",
        "\n",
        "    X = X[:, features]\n",
        "    \n",
        "    for i in range(1,6): # 5-fold cross validation\n",
        "      loss_fold = 0\n",
        "\n",
        "      ind_val = np.arange((i-1)*ind_fold, i*ind_fold).astype(int)\n",
        "      ind_train = np.array([ind for ind in range(n) if ind not in ind_val]).astype(int)\n",
        "\n",
        "      Xval, Xtrain = X[ind_val], X[ind_train]\n",
        "      Yval, Ytrain = Y[ind_val], Y[ind_train]\n",
        "\n",
        "      # compute w\n",
        "      w = np.linalg.solve(Xtrain.T@Xtrain, Xtrain.T@Ytrain)\n",
        "\n",
        "      loss_fold = 1/2*np.absolute(Yval-np.sign(Xval@w))\n",
        "      loss.append(np.sum(loss_fold))\n",
        "\n",
        "    final_loss = np.sum(loss) / n\n",
        "    return final_loss"
      ],
      "execution_count": null,
      "outputs": []
    },
    {
      "cell_type": "code",
      "metadata": {
        "id": "A1McRcMawzxQ"
      },
      "source": [
        "def powerset(s):\n",
        "    ''' \n",
        "    function to compute all subsets of the set s\n",
        "    '''\n",
        "\n",
        "    x = len(s)\n",
        "    masks = [1 << i for i in range(x)]\n",
        "    for i in range(1, 1 << x):\n",
        "        yield [ss for mask, ss in zip(masks, s) if i & mask]"
      ],
      "execution_count": null,
      "outputs": []
    },
    {
      "cell_type": "code",
      "metadata": {
        "id": "Eq8qCMM5-JCi",
        "colab": {
          "base_uri": "https://localhost:8080/"
        },
        "outputId": "7bf1bb19-460b-4b93-d782-c92447a42f69"
      },
      "source": [
        "# use cross-validation to determine best feature subset among all of them\n",
        "\n",
        "subsets = list(powerset(list(range(X_train.shape[1])))) # construct all subsets\n",
        "CVErrors = np.zeros([len(subsets), 1])\n",
        "\n",
        "for i in tqdm(range(len(subsets))):\n",
        "  CVErrors[i] = CrossValidationLS(X_train, Y_train, subsets[i])"
      ],
      "execution_count": null,
      "outputs": [
        {
          "output_type": "stream",
          "text": [
            "100%|██████████| 32767/32767 [01:05<00:00, 497.05it/s]\n"
          ],
          "name": "stderr"
        }
      ]
    },
    {
      "cell_type": "code",
      "metadata": {
        "colab": {
          "base_uri": "https://localhost:8080/"
        },
        "id": "loQXAtlR2DP3",
        "outputId": "4d15c57c-3a6c-406f-fe5f-75b6f742ece0"
      },
      "source": [
        "# report lowest error and best subset as well as error on test set if only\n",
        "# include those features\n",
        "\n",
        "best_subsets = np.where(CVErrors == min(CVErrors))\n",
        "\n",
        "for i in range(len(best_subsets[0])):\n",
        "  best_subset = subsets[best_subsets[0][i]]\n",
        "  print('Best feature subset:', best_subset, 'with CV error:', CVErrors[best_subsets[0][i]])\n",
        "\n",
        "  X_train_subset = X_train[:, best_subset]\n",
        "  w_subset = np.linalg.solve(X_train_subset.T@X_train_subset, X_train_subset.T@Y_train)\n",
        "\n",
        "  # evaluate the performance of the classifier(s)\n",
        "  X_test_subset = X_test[:, best_subset]\n",
        "  loss_test = 1/2*np.absolute(Y_test-np.sign(X_test_subset@w_subset))\n",
        "  print('Error on test set:', np.sum(loss_test)/X_test_subset.shape[0], '\\n')"
      ],
      "execution_count": null,
      "outputs": [
        {
          "output_type": "stream",
          "text": [
            "Best feature subset: [3, 8, 9] with CV error: [0.2]\n",
            "Error on test set: 0.497 \n",
            "\n",
            "Best feature subset: [3, 9, 10] with CV error: [0.2]\n",
            "Error on test set: 0.502 \n",
            "\n",
            "Best feature subset: [3, 9, 10, 11] with CV error: [0.2]\n",
            "Error on test set: 0.504 \n",
            "\n",
            "Best feature subset: [3, 8, 9, 10, 13] with CV error: [0.2]\n",
            "Error on test set: 0.504 \n",
            "\n",
            "Best feature subset: [3, 4, 8, 9, 11, 13] with CV error: [0.2]\n",
            "Error on test set: 0.478 \n",
            "\n"
          ],
          "name": "stdout"
        }
      ]
    },
    {
      "cell_type": "markdown",
      "metadata": {
        "id": "C7WFptGg242h"
      },
      "source": [
        "**Do you have an idea why the cross-validation error obtained in a) and the just computed test error are so different? Does this have to do with the classifier or the feature selection ? What will you tell the biologists ?**\n",
        "\n",
        "The test errors are significantly higher than the cross-validation errors obtained in a) for all of the best feature subsets. This is probably because of the feature selection and not because of the classifier as the best subsets were only the best ones for the training data but not for the problem at hand. Hence, overfitting took place as the selected features work well for the training data, but do not generalize to unseen data (test data). \n",
        "This is the also the case because we have a small training set (40 observations) in contrast to a large test set (1000 observations).\n",
        "\n",
        "Accordingly, one should tell the biologists that using only the smallest best subset without verifying its accuracy on an independent dataset is a bad idea and they should pursue this subset approach."
      ]
    },
    {
      "cell_type": "markdown",
      "metadata": {
        "id": "bAZJjnoZQTPW"
      },
      "source": [
        "# **Exercise 15**"
      ]
    },
    {
      "cell_type": "code",
      "metadata": {
        "id": "i8t8qAJe54pr",
        "colab": {
          "base_uri": "https://localhost:8080/"
        },
        "outputId": "7507b65e-40ea-40d7-c9b9-c500477eea32"
      },
      "source": [
        "subsets = list(powerset(list(range(6)))) # construct subsets for first 6 features\n",
        "CVErrors = np.zeros([len(subsets), 1])\n",
        "\n",
        "# determine original test statistic\n",
        "for i in tqdm(range(len(subsets))):\n",
        "  CVErrors[i] = CrossValidationLS(X_train, Y_train, subsets[i])\n",
        "\n",
        "t = np.min(CVErrors)"
      ],
      "execution_count": null,
      "outputs": [
        {
          "output_type": "stream",
          "text": [
            "100%|██████████| 63/63 [00:00<00:00, 884.86it/s]\n"
          ],
          "name": "stderr"
        }
      ]
    },
    {
      "cell_type": "code",
      "metadata": {
        "colab": {
          "base_uri": "https://localhost:8080/"
        },
        "id": "RFxdzGcj6VMQ",
        "outputId": "11d22edd-1df8-4486-8dfc-e67af15b7be8"
      },
      "source": [
        "# compute test statistics for permuted labels\n",
        "\n",
        "test_statistics = []\n",
        "np.random.seed(1)\n",
        "for i in tqdm(range(1000)):\n",
        "  CVErrors = np.zeros([len(subsets), 1])\n",
        "  Y_train_permut = np.random.permutation(Y_train)\n",
        "\n",
        "  for i in range(len(subsets)):\n",
        "    CVErrors[i] = CrossValidationLS(X_train, Y_train_permut, subsets[i])\n",
        "\n",
        "  test_statistics.append(np.min(CVErrors))"
      ],
      "execution_count": null,
      "outputs": [
        {
          "output_type": "stream",
          "text": [
            "100%|██████████| 1000/1000 [01:12<00:00, 13.78it/s]\n"
          ],
          "name": "stderr"
        }
      ]
    },
    {
      "cell_type": "code",
      "metadata": {
        "colab": {
          "base_uri": "https://localhost:8080/",
          "height": 333
        },
        "id": "HbibSCoL5ECO",
        "outputId": "00a78b84-509b-477b-ce39-92a34114f5ed"
      },
      "source": [
        "plt.hist(test_statistics, 50);\n",
        "\n",
        "print(\"Rejection region = (-∞, {}]\".format(np.around(np.quantile(test_statistics, 0.05), 2)))\n",
        "print(\"Original test statistic = {}\".format(t))\n",
        "print(\"Approximate p-value = {} \\n\".format(np.around((test_statistics < t).sum()/len(test_statistics), 4)))"
      ],
      "execution_count": null,
      "outputs": [
        {
          "output_type": "stream",
          "text": [
            "Rejection region = (-∞, 0.25]\n",
            "Original test statistic = 0.325\n",
            "Approximate p-value = 0.303 \n",
            "\n"
          ],
          "name": "stdout"
        },
        {
          "output_type": "display_data",
          "data": {
            "image/png": "[encoded data removed]",
            "text/plain": [
              "<Figure size 432x288 with 1 Axes>"
            ]
          },
          "metadata": {
            "tags": [],
            "needs_background": "light"
          }
        }
      ]
    },
    {
      "cell_type": "markdown",
      "metadata": {
        "id": "ZlHFny0B73we"
      },
      "source": [
        "**What cross-validation error do you expect under the null hypothesis ?**\n",
        "\n",
        "Under the null hypothesis that features & labels are independent, a cross-validation error of 0.5 is expected. \n",
        "\n",
        "**Decision (reject/not reject the null hypothesis) *(written on paper)*. What does the result of the test imply for the result obtained in 14a) ?**\n",
        "\n",
        "Based on the p-value of 0.303 and the fact that the original test statistic lies not in the rejection region, the null hypothesis of independence between features and labels cannot be rejected. This goes hand in hand with the previously obtained result that the test error exceeds the CV error by far. The low CV errors might be due to fitting the idiosyncrasies of the training data, but not because of identifying a true relationship. Since the true relationship is not captured and might not even be able to be captured (because of the potential independence of X and Y), the test error is close to 0.5. The latter is as good as a random guess is expected to perform. Once again, it makes only  sense to train classifiers where inputs and outputs are related, which is not supported by the permutation test."
      ]
    }
  ]
}